{
 "cells": [
  {
   "cell_type": "markdown",
   "metadata": {
    "application/vnd.databricks.v1+cell": {
     "cellMetadata": {},
     "inputWidgets": {},
     "nuid": "71d5c92b-69c9-4daa-a971-b5bbd6d14e28",
     "showTitle": false,
     "tableResultSettingsMap": {},
     "title": ""
    }
   },
   "source": [
    "RDD\n",
    "\n",
    "Resilient (Recover/Fault Tolerance)\n",
    "\n",
    "Distributed(Distributed computing machine)\n",
    "\n",
    "Dataset\n",
    "\n",
    "In Python :\n",
    "\n",
    "List, String, Set, Tuple, Dict\n",
    "\n",
    "Like wise RDD is fundamental data structure of PySpark"
   ]
  },
  {
   "cell_type": "markdown",
   "metadata": {
    "application/vnd.databricks.v1+cell": {
     "cellMetadata": {},
     "inputWidgets": {},
     "nuid": "86780b95-6bcc-4557-8cce-f9fa63591f5e",
     "showTitle": false,
     "tableResultSettingsMap": {},
     "title": ""
    }
   },
   "source": [
    "RDDs are Immutable\n",
    "\n",
    "RDD Operations:\n",
    "\n",
    "Transformations and Actions.\n",
    "\n",
    "Lazy Evaluation : Transformation on RDDs are not executed immediately, they are executed once an action is called.\n",
    "\n",
    "Partitioned : RDDs are divided into logical partitions and each partition is processed independently\n",
    "\n",
    "\n",
    "RDD's can work with structured/semistructured/unstructured\n",
    "\n",
    "RDD is nothing but  combination of partition.\n",
    "\n",
    "SparkSession is entry point for all spark Application\n",
    "\n",
    "SparkContext is part of SparkSession\n",
    "\n",
    "HiveContext is part of SparkSession\n",
    "\n",
    "2 basic method to create RDD, by using paralellelized collection or from some external system.\n"
   ]
  },
  {
   "cell_type": "code",
   "execution_count": 0,
   "metadata": {
    "application/vnd.databricks.v1+cell": {
     "cellMetadata": {
      "byteLimit": 2048000,
      "rowLimit": 10000
     },
     "inputWidgets": {},
     "nuid": "4aa84298-d50f-471f-b633-1ac572902c9b",
     "showTitle": false,
     "tableResultSettingsMap": {},
     "title": ""
    }
   },
   "outputs": [
    {
     "output_type": "display_data",
     "data": {
      "text/html": [
       "\n",
       "            <div>\n",
       "                <p><b>SparkSession - hive</b></p>\n",
       "                \n",
       "        <div>\n",
       "            <p><b>SparkContext</b></p>\n",
       "\n",
       "            <p><a href=\"/?o=3019613431438060#setting/sparkui/1122-013159-n40a6tns/driver-7401593481958634361\">Spark UI</a></p>\n",
       "\n",
       "            <dl>\n",
       "              <dt>Version</dt>\n",
       "                <dd><code>v3.3.2</code></dd>\n",
       "              <dt>Master</dt>\n",
       "                <dd><code>local[8]</code></dd>\n",
       "              <dt>AppName</dt>\n",
       "                <dd><code>Databricks Shell</code></dd>\n",
       "            </dl>\n",
       "        </div>\n",
       "        \n",
       "            </div>\n",
       "        "
      ]
     },
     "metadata": {
      "application/vnd.databricks.v1+output": {
       "addedWidgets": {},
       "arguments": {},
       "data": "\n            <div>\n                <p><b>SparkSession - hive</b></p>\n                \n        <div>\n            <p><b>SparkContext</b></p>\n\n            <p><a href=\"/?o=3019613431438060#setting/sparkui/1122-013159-n40a6tns/driver-7401593481958634361\">Spark UI</a></p>\n\n            <dl>\n              <dt>Version</dt>\n                <dd><code>v3.3.2</code></dd>\n              <dt>Master</dt>\n                <dd><code>local[8]</code></dd>\n              <dt>AppName</dt>\n                <dd><code>Databricks Shell</code></dd>\n            </dl>\n        </div>\n        \n            </div>\n        ",
       "datasetInfos": [],
       "metadata": {},
       "removedWidgets": [],
       "textData": null,
       "type": "htmlSandbox"
      }
     },
     "output_type": "display_data"
    }
   ],
   "source": [
    "spark\n"
   ]
  },
  {
   "cell_type": "code",
   "execution_count": 0,
   "metadata": {
    "application/vnd.databricks.v1+cell": {
     "cellMetadata": {
      "byteLimit": 2048000,
      "rowLimit": 10000
     },
     "inputWidgets": {},
     "nuid": "b9d164be-4249-4321-813f-aecd8c716e18",
     "showTitle": false,
     "tableResultSettingsMap": {},
     "title": ""
    }
   },
   "outputs": [
    {
     "output_type": "stream",
     "name": "stdout",
     "output_type": "stream",
     "text": [
      "8\n[[], [1], [2], [3], [4], [5], [6], [8]]\n"
     ]
    }
   ],
   "source": [
    "from pyspark.sql import SparkSession\n",
    "from pyspark.sql.types import *\n",
    "from pyspark.sql.functions import *\n",
    "\n",
    "spark = SparkSession.builder.appName(\"RDDs\").getOrCreate()\n",
    "\n",
    "rdd = spark.sparkContext.parallelize([1,2,3,4,5,6,8])\n",
    "rdd.collect()\n",
    "\n",
    "print(rdd.getNumPartitions())\n",
    "\n",
    "print(rdd.glom().collect())\n",
    "\n"
   ]
  },
  {
   "cell_type": "code",
   "execution_count": 0,
   "metadata": {
    "application/vnd.databricks.v1+cell": {
     "cellMetadata": {
      "byteLimit": 2048000,
      "rowLimit": 10000
     },
     "inputWidgets": {},
     "nuid": "aed69d4f-98ec-48d3-a0cc-2e1fccdd9d19",
     "showTitle": false,
     "tableResultSettingsMap": {},
     "title": ""
    }
   },
   "outputs": [
    {
     "output_type": "stream",
     "name": "stdout",
     "output_type": "stream",
     "text": [
      "[18, 24, 0, 4, 11, 12, 20, 32, 39, 17]\n[[18], [24], [0], [4, 11], [12], [20], [32], [39, 17]]\n"
     ]
    }
   ],
   "source": [
    "import random\n",
    "randomlist = random.sample(range(0,40), 10)\n",
    "\n",
    "print(randomlist)\n",
    "\n",
    "rdd1 = spark.sparkContext.parallelize(randomlist) \n",
    "print(rdd1.glom().collect())"
   ]
  },
  {
   "cell_type": "code",
   "execution_count": 0,
   "metadata": {
    "application/vnd.databricks.v1+cell": {
     "cellMetadata": {
      "byteLimit": 2048000,
      "rowLimit": 10000
     },
     "inputWidgets": {},
     "nuid": "d9a9a379-7693-4a47-ac23-3b8254f82ef8",
     "showTitle": false,
     "tableResultSettingsMap": {},
     "title": ""
    }
   },
   "outputs": [
    {
     "output_type": "stream",
     "name": "stdout",
     "output_type": "stream",
     "text": [
      "[12, 10, 1, 8, 2, 35, 18, 11, 38, 6]\n[[12], [10], [1], [8, 2], [35], [18], [11], [38, 6]]\n[1]\n"
     ]
    }
   ],
   "source": [
    "import random\n",
    "randomlist = random.sample(range(0,40), 10)\n",
    "\n",
    "print(randomlist)\n",
    "\n",
    "rdd2 = spark.sparkContext.parallelize(randomlist) \n",
    "print(rdd2.glom().collect())\n",
    "print(rdd2.glom().collect()[2])\n"
   ]
  },
  {
   "cell_type": "code",
   "execution_count": 0,
   "metadata": {
    "application/vnd.databricks.v1+cell": {
     "cellMetadata": {
      "byteLimit": 2048000,
      "rowLimit": 10000
     },
     "inputWidgets": {},
     "nuid": "60299493-38cc-435f-bf47-97652f0c74fc",
     "showTitle": false,
     "tableResultSettingsMap": {},
     "title": ""
    }
   },
   "outputs": [
    {
     "output_type": "stream",
     "name": "stdout",
     "output_type": "stream",
     "text": [
      "[[12], [10], [1], [8, 2], [35], [18], [11], [38, 6]]\n[[24], [20], [2], [16, 4], [70], [36], [22], [76, 12]]\n"
     ]
    }
   ],
   "source": [
    "print(rdd2.glom().collect())\n",
    "\n",
    "rdd_map = rdd2.map(lambda x : x*2)\n",
    "\n",
    "print(rdd_map.glom().collect())\n",
    "\n",
    "\n",
    "# Transformations having 1:1 move is narrow transformation(There is no shuffling) ex., Map"
   ]
  },
  {
   "cell_type": "code",
   "execution_count": 0,
   "metadata": {
    "application/vnd.databricks.v1+cell": {
     "cellMetadata": {
      "byteLimit": 2048000,
      "rowLimit": 10000
     },
     "inputWidgets": {},
     "nuid": "e91e54ee-7ab9-4377-b2b6-27fbc91b7179",
     "showTitle": false,
     "tableResultSettingsMap": {},
     "title": ""
    }
   },
   "outputs": [
    {
     "output_type": "stream",
     "name": "stdout",
     "output_type": "stream",
     "text": [
      "[[18], [12, 6]]\n"
     ]
    }
   ],
   "source": [
    "rdd_filter = rdd2.filter(lambda x : x%3==0)\n",
    "rdd_filter=rdd_filter.repartition(2)\n",
    "print(rdd_filter.glom().collect())\n",
    "\n",
    "# Here 5 partitions are empty, spark will automatically remove it using garbage collection technique\n",
    "\n"
   ]
  },
  {
   "cell_type": "markdown",
   "metadata": {
    "application/vnd.databricks.v1+cell": {
     "cellMetadata": {},
     "inputWidgets": {},
     "nuid": "23b2a23d-af74-4974-b276-fa9b9fb498a5",
     "showTitle": false,
     "tableResultSettingsMap": {},
     "title": ""
    }
   },
   "source": [
    "- Narrow Transformation - Data remains in same partition, no shuffling\n",
    "\n",
    "- Wide Transformation - Whnever there is shuffling of data across partitions. groupByKey(), reduceByKey(),join(),repartition()"
   ]
  },
  {
   "cell_type": "code",
   "execution_count": 0,
   "metadata": {
    "application/vnd.databricks.v1+cell": {
     "cellMetadata": {
      "byteLimit": 2048000,
      "rowLimit": 10000
     },
     "inputWidgets": {},
     "nuid": "1bd5a27e-bcda-4f6a-858d-bcd08ac5028f",
     "showTitle": false,
     "tableResultSettingsMap": {},
     "title": ""
    }
   },
   "outputs": [
    {
     "output_type": "display_data",
     "data": {
      "text/html": [
       "<style scoped>\n",
       "  .table-result-container {\n",
       "    max-height: 300px;\n",
       "    overflow: auto;\n",
       "  }\n",
       "  table, th, td {\n",
       "    border: 1px solid black;\n",
       "    border-collapse: collapse;\n",
       "  }\n",
       "  th, td {\n",
       "    padding: 5px;\n",
       "  }\n",
       "  th {\n",
       "    text-align: left;\n",
       "  }\n",
       "</style><div class='table-result-container'><table class='table-result'><thead style='background-color: white'><tr><th>DEST_COUNTRY_NAME</th><th>ORIGIN_COUNTRY_NAME</th><th>count</th></tr></thead><tbody><tr><td>United States</td><td>Romania</td><td>1</td></tr><tr><td>United States</td><td>Ireland</td><td>264</td></tr><tr><td>United States</td><td>India</td><td>69</td></tr><tr><td>Egypt</td><td>United States</td><td>24</td></tr><tr><td>Equatorial Guinea</td><td>United States</td><td>1</td></tr><tr><td>United States</td><td>Singapore</td><td>25</td></tr><tr><td>United States</td><td>Grenada</td><td>54</td></tr><tr><td>Costa Rica</td><td>United States</td><td>477</td></tr><tr><td>Senegal</td><td>United States</td><td>29</td></tr><tr><td>United States</td><td>Marshall Islands</td><td>44</td></tr><tr><td>Guyana</td><td>United States</td><td>17</td></tr><tr><td>United States</td><td>Sint Maarten</td><td>53</td></tr><tr><td>Malta</td><td>United States</td><td>1</td></tr><tr><td>Bolivia</td><td>United States</td><td>46</td></tr><tr><td>Anguilla</td><td>United States</td><td>21</td></tr><tr><td>Turks and Caicos Islands</td><td>United States</td><td>136</td></tr><tr><td>United States</td><td>Afghanistan</td><td>2</td></tr><tr><td>Saint Vincent and the Grenadines</td><td>United States</td><td>1</td></tr><tr><td>Italy</td><td>United States</td><td>390</td></tr><tr><td>United States</td><td>Russia</td><td>156</td></tr><tr><td>United States</td><td>Federated States of Micronesia</td><td>48</td></tr><tr><td>Pakistan</td><td>United States</td><td>9</td></tr><tr><td>United States</td><td>Netherlands</td><td>570</td></tr><tr><td>Iceland</td><td>United States</td><td>118</td></tr><tr><td>Marshall Islands</td><td>United States</td><td>77</td></tr><tr><td>Luxembourg</td><td>United States</td><td>91</td></tr><tr><td>Honduras</td><td>United States</td><td>391</td></tr><tr><td>The Bahamas</td><td>United States</td><td>903</td></tr><tr><td>El Salvador</td><td>United States</td><td>519</td></tr><tr><td>United States</td><td>Senegal</td><td>46</td></tr><tr><td>Samoa</td><td>United States</td><td>28</td></tr><tr><td>United States</td><td>Angola</td><td>18</td></tr><tr><td>Kazakhstan</td><td>United States</td><td>3</td></tr><tr><td>Switzerland</td><td>United States</td><td>315</td></tr><tr><td>United States</td><td>Anguilla</td><td>20</td></tr><tr><td>Sint Maarten</td><td>United States</td><td>61</td></tr><tr><td>Hong Kong</td><td>United States</td><td>252</td></tr><tr><td>Trinidad and Tobago</td><td>United States</td><td>187</td></tr><tr><td>Latvia</td><td>United States</td><td>12</td></tr><tr><td>United States</td><td>Ecuador</td><td>345</td></tr><tr><td>Slovakia</td><td>United States</td><td>1</td></tr><tr><td>Suriname</td><td>United States</td><td>12</td></tr><tr><td>Mexico</td><td>United States</td><td>6200</td></tr><tr><td>United States</td><td>Cyprus</td><td>1</td></tr><tr><td>Ecuador</td><td>United States</td><td>272</td></tr><tr><td>United States</td><td>Bosnia and Herzegovina</td><td>1</td></tr><tr><td>United States</td><td>Portugal</td><td>104</td></tr><tr><td>United States</td><td>Costa Rica</td><td>501</td></tr><tr><td>United States</td><td>Guatemala</td><td>333</td></tr><tr><td>United States</td><td>Suriname</td><td>13</td></tr><tr><td>Colombia</td><td>United States</td><td>785</td></tr><tr><td>United States</td><td>Cape Verde</td><td>18</td></tr><tr><td>United States</td><td>Jamaica</td><td>757</td></tr><tr><td>United States</td><td>Malaysia</td><td>3</td></tr><tr><td>Norway</td><td>United States</td><td>29</td></tr><tr><td>United States</td><td>Morocco</td><td>16</td></tr><tr><td>Thailand</td><td>United States</td><td>16</td></tr><tr><td>Venezuela</td><td>United States</td><td>377</td></tr><tr><td>United States</td><td>Palau</td><td>30</td></tr><tr><td>United States</td><td>Samoa</td><td>28</td></tr><tr><td>United States</td><td>Algeria</td><td>1</td></tr><tr><td>United States</td><td>Venezuela</td><td>341</td></tr><tr><td>Panama</td><td>United States</td><td>355</td></tr><tr><td>United States</td><td>Finland</td><td>20</td></tr><tr><td>United States</td><td>Chile</td><td>176</td></tr><tr><td>Morocco</td><td>United States</td><td>16</td></tr><tr><td>United States</td><td>Greece</td><td>61</td></tr><tr><td>Antigua and Barbuda</td><td>United States</td><td>123</td></tr><tr><td>Azerbaijan</td><td>United States</td><td>1</td></tr><tr><td>United States</td><td>The Bahamas</td><td>959</td></tr><tr><td>New Zealand</td><td>United States</td><td>86</td></tr><tr><td>Liberia</td><td>United States</td><td>1</td></tr><tr><td>United States</td><td>Hong Kong</td><td>293</td></tr><tr><td>Hungary</td><td>United States</td><td>14</td></tr><tr><td>United States</td><td>China</td><td>505</td></tr><tr><td>United States</td><td>Vietnam</td><td>1</td></tr><tr><td>Sweden</td><td>United States</td><td>65</td></tr><tr><td>United States</td><td>Kuwait</td><td>25</td></tr><tr><td>United States</td><td>Dominican Republic</td><td>1150</td></tr><tr><td>United States</td><td>Egypt</td><td>25</td></tr><tr><td>Israel</td><td>United States</td><td>117</td></tr><tr><td>United States</td><td>United States</td><td>348113</td></tr><tr><td>United States</td><td>Luxembourg</td><td>90</td></tr><tr><td>Ethiopia</td><td>United States</td><td>12</td></tr><tr><td>United States</td><td>Poland</td><td>61</td></tr><tr><td>Martinique</td><td>United States</td><td>23</td></tr><tr><td>Saint Barthelemy</td><td>United States</td><td>28</td></tr><tr><td>United States</td><td>Saint Barthelemy</td><td>29</td></tr><tr><td>United States</td><td>Turkey</td><td>87</td></tr><tr><td>Barbados</td><td>United States</td><td>130</td></tr><tr><td>United States</td><td>Estonia</td><td>1</td></tr><tr><td>United States</td><td>Azerbaijan</td><td>1</td></tr><tr><td>Germany</td><td>United States</td><td>1392</td></tr><tr><td>Kyrgyzstan</td><td>United States</td><td>2</td></tr><tr><td>United States</td><td>South Korea</td><td>621</td></tr><tr><td>United States</td><td>El Salvador</td><td>464</td></tr><tr><td>Ireland</td><td>United States</td><td>231</td></tr><tr><td>United States</td><td>Hungary</td><td>15</td></tr><tr><td>United States</td><td>Serbia</td><td>1</td></tr><tr><td>Malaysia</td><td>United States</td><td>1</td></tr><tr><td>United States</td><td>Panama</td><td>363</td></tr><tr><td>United States</td><td>Ethiopia</td><td>12</td></tr><tr><td>United States</td><td>Aruba</td><td>349</td></tr><tr><td>United States</td><td>Thailand</td><td>13</td></tr><tr><td>United States</td><td>Netherlands Antilles</td><td>289</td></tr><tr><td>United States</td><td>Turks and Caicos Islands</td><td>147</td></tr><tr><td>Cyprus</td><td>United States</td><td>2</td></tr><tr><td>United States</td><td>Pakistan</td><td>15</td></tr><tr><td>United States</td><td>Honduras</td><td>393</td></tr><tr><td>Qatar</td><td>United States</td><td>41</td></tr><tr><td>Fiji</td><td>United States</td><td>53</td></tr><tr><td>Saint Kitts and Nevis</td><td>United States</td><td>113</td></tr><tr><td>Taiwan</td><td>United States</td><td>275</td></tr><tr><td>Haiti</td><td>United States</td><td>238</td></tr><tr><td>Kuwait</td><td>United States</td><td>26</td></tr><tr><td>Canada</td><td>United States</td><td>8271</td></tr><tr><td>Federated States of Micronesia</td><td>United States</td><td>46</td></tr><tr><td>United States</td><td>Liberia</td><td>1</td></tr><tr><td>Jamaica</td><td>United States</td><td>733</td></tr><tr><td>United States</td><td>Malta</td><td>2</td></tr><tr><td>Dominican Republic</td><td>United States</td><td>1109</td></tr><tr><td>Japan</td><td>United States</td><td>1383</td></tr><tr><td>United States</td><td>Saint Vincent and the Grenadines</td><td>16</td></tr><tr><td>United States</td><td>Guadeloupe</td><td>33</td></tr><tr><td>Finland</td><td>United States</td><td>24</td></tr><tr><td>United States</td><td>Ukraine</td><td>17</td></tr><tr><td>United States</td><td>France</td><td>776</td></tr><tr><td>United States</td><td>Norway</td><td>36</td></tr><tr><td>Aruba</td><td>United States</td><td>359</td></tr><tr><td>French Guiana</td><td>United States</td><td>4</td></tr><tr><td>United States</td><td>Kiribati</td><td>18</td></tr><tr><td>India</td><td>United States</td><td>66</td></tr><tr><td>British Virgin Islands</td><td>United States</td><td>49</td></tr><tr><td>United States</td><td>Germany</td><td>1406</td></tr><tr><td>Brazil</td><td>United States</td><td>995</td></tr><tr><td>United States</td><td>New Zealand</td><td>71</td></tr><tr><td>French Polynesia</td><td>United States</td><td>38</td></tr><tr><td>United Arab Emirates</td><td>United States</td><td>165</td></tr><tr><td>Singapore</td><td>United States</td><td>25</td></tr><tr><td>United States</td><td>Mexico</td><td>6220</td></tr><tr><td>Netherlands</td><td>United States</td><td>586</td></tr><tr><td>United States</td><td>Sweden</td><td>73</td></tr><tr><td>United States</td><td>Gabon</td><td>1</td></tr><tr><td>United States</td><td>Martinique</td><td>20</td></tr><tr><td>United States</td><td>United Arab Emirates</td><td>156</td></tr><tr><td>United States</td><td>Bulgaria</td><td>2</td></tr><tr><td>China</td><td>United States</td><td>448</td></tr><tr><td>Denmark</td><td>United States</td><td>98</td></tr><tr><td>United States</td><td>Philippines</td><td>116</td></tr><tr><td>United States</td><td>Nicaragua</td><td>181</td></tr><tr><td>United States</td><td>Belgium</td><td>355</td></tr><tr><td>Peru</td><td>United States</td><td>212</td></tr><tr><td>Argentina</td><td>United States</td><td>184</td></tr><tr><td>Cayman Islands</td><td>United States</td><td>247</td></tr><tr><td>South Africa</td><td>United States</td><td>25</td></tr><tr><td>United States</td><td>Iceland</td><td>129</td></tr><tr><td>United States</td><td>Argentina</td><td>159</td></tr><tr><td>Spain</td><td>United States</td><td>422</td></tr><tr><td>Netherlands Antilles</td><td>United States</td><td>286</td></tr><tr><td>Bermuda</td><td>United States</td><td>183</td></tr><tr><td>United States</td><td>Austria</td><td>34</td></tr><tr><td>United States</td><td>Nigeria</td><td>18</td></tr><tr><td>United States</td><td>Bonaire, Sint Eustatius, and Saba</td><td>16</td></tr><tr><td>Kiribati</td><td>United States</td><td>17</td></tr><tr><td>Saudi Arabia</td><td>United States</td><td>42</td></tr><tr><td>Czech Republic</td><td>United States</td><td>21</td></tr><tr><td>Belgium</td><td>United States</td><td>408</td></tr><tr><td>United States</td><td>Israel</td><td>122</td></tr><tr><td>United States</td><td>Bahrain</td><td>1</td></tr><tr><td>United States</td><td>Saint Lucia</td><td>121</td></tr><tr><td>Afghanistan</td><td>United States</td><td>11</td></tr><tr><td>United States</td><td>British Virgin Islands</td><td>47</td></tr><tr><td>Curacao</td><td>United States</td><td>20</td></tr><tr><td>Georgia</td><td>United States</td><td>2</td></tr><tr><td>United States</td><td>Guyana</td><td>20</td></tr><tr><td>United States</td><td>Denmark</td><td>107</td></tr><tr><td>Philippines</td><td>United States</td><td>132</td></tr><tr><td>Grenada</td><td>United States</td><td>65</td></tr><tr><td>Cape Verde</td><td>United States</td><td>18</td></tr><tr><td>Ukraine</td><td>United States</td><td>19</td></tr><tr><td>United States</td><td>Papua New Guinea</td><td>1</td></tr><tr><td>United States</td><td>Saudi Arabia</td><td>54</td></tr><tr><td>Russia</td><td>United States</td><td>152</td></tr><tr><td>Guatemala</td><td>United States</td><td>386</td></tr><tr><td>Saint Lucia</td><td>United States</td><td>116</td></tr><tr><td>Paraguay</td><td>United States</td><td>90</td></tr><tr><td>United States</td><td>Curacao</td><td>14</td></tr><tr><td>United States</td><td>Taiwan</td><td>252</td></tr><tr><td>United States</td><td>South Africa</td><td>15</td></tr><tr><td>Turkey</td><td>United States</td><td>75</td></tr><tr><td>United Kingdom</td><td>United States</td><td>1629</td></tr><tr><td>United States</td><td>Greenland</td><td>2</td></tr><tr><td>United States</td><td>Spain</td><td>442</td></tr><tr><td>Cuba</td><td>United States</td><td>243</td></tr><tr><td>United States</td><td>Italy</td><td>433</td></tr><tr><td>United States</td><td>Switzerland</td><td>334</td></tr><tr><td>Dominica</td><td>United States</td><td>28</td></tr><tr><td>United States</td><td>Japan</td><td>1307</td></tr><tr><td>Portugal</td><td>United States</td><td>102</td></tr><tr><td>United States</td><td>Brazil</td><td>578</td></tr><tr><td>Bahrain</td><td>United States</td><td>30</td></tr><tr><td>United States</td><td>Peru</td><td>284</td></tr><tr><td>Vietnam</td><td>United States</td><td>1</td></tr><tr><td>United States</td><td>United Kingdom</td><td>1503</td></tr><tr><td>United States</td><td>Belize</td><td>118</td></tr><tr><td>Belize</td><td>United States</td><td>121</td></tr><tr><td>United States</td><td>Ghana</td><td>28</td></tr><tr><td>United States</td><td>Indonesia</td><td>1</td></tr><tr><td>United States</td><td>Fiji</td><td>51</td></tr><tr><td>United States</td><td>Canada</td><td>8305</td></tr><tr><td>United States</td><td>French Polynesia</td><td>38</td></tr><tr><td>United States</td><td>Antigua and Barbuda</td><td>121</td></tr><tr><td>United States</td><td>Burkina Faso</td><td>1</td></tr><tr><td>Nicaragua</td><td>United States</td><td>178</td></tr><tr><td>United States</td><td>Latvia</td><td>13</td></tr><tr><td>United States</td><td>Dominica</td><td>32</td></tr><tr><td>United States</td><td>Czech Republic</td><td>22</td></tr><tr><td>United States</td><td>Australia</td><td>216</td></tr><tr><td>Austria</td><td>United States</td><td>36</td></tr><tr><td>United States</td><td>Cook Islands</td><td>12</td></tr><tr><td>Jordan</td><td>United States</td><td>50</td></tr><tr><td>Palau</td><td>United States</td><td>31</td></tr><tr><td>Uganda</td><td>United States</td><td>2</td></tr><tr><td>United States</td><td>Cameroon</td><td>1</td></tr><tr><td>South Korea</td><td>United States</td><td>683</td></tr><tr><td>Angola</td><td>United States</td><td>14</td></tr><tr><td>Ghana</td><td>United States</td><td>27</td></tr><tr><td>Guadeloupe</td><td>United States</td><td>40</td></tr><tr><td>France</td><td>United States</td><td>774</td></tr><tr><td>United States</td><td>Kyrgyzstan</td><td>12</td></tr><tr><td>Poland</td><td>United States</td><td>62</td></tr><tr><td>Nigeria</td><td>United States</td><td>16</td></tr><tr><td>United States</td><td>Uruguay</td><td>24</td></tr><tr><td>Greenland</td><td>United States</td><td>2</td></tr><tr><td>Chile</td><td>United States</td><td>166</td></tr><tr><td>United States</td><td>Bermuda</td><td>180</td></tr><tr><td>United States</td><td>Cuba</td><td>235</td></tr><tr><td>United States</td><td>Colombia</td><td>832</td></tr><tr><td>United States</td><td>Qatar</td><td>40</td></tr><tr><td>United States</td><td>Barbados</td><td>119</td></tr><tr><td>Australia</td><td>United States</td><td>290</td></tr><tr><td>United States</td><td>Jordan</td><td>51</td></tr><tr><td>United States</td><td>Cayman Islands</td><td>251</td></tr><tr><td>United States</td><td>Trinidad and Tobago</td><td>200</td></tr><tr><td>United States</td><td>Bolivia</td><td>39</td></tr><tr><td>United States</td><td>Slovakia</td><td>1</td></tr><tr><td>Uruguay</td><td>United States</td><td>54</td></tr><tr><td>Cook Islands</td><td>United States</td><td>13</td></tr><tr><td>United States</td><td>Saint Kitts and Nevis</td><td>127</td></tr><tr><td>Bulgaria</td><td>United States</td><td>1</td></tr><tr><td>United States</td><td>French Guiana</td><td>1</td></tr><tr><td>United States</td><td>Haiti</td><td>226</td></tr><tr><td>United States</td><td>Uganda</td><td>1</td></tr><tr><td>Bonaire, Sint Eustatius, and Saba</td><td>United States</td><td>16</td></tr><tr><td>Greece</td><td>United States</td><td>50</td></tr></tbody></table></div>"
      ]
     },
     "metadata": {
      "application/vnd.databricks.v1+output": {
       "addedWidgets": {},
       "aggData": [],
       "aggError": "",
       "aggOverflow": false,
       "aggSchema": [],
       "aggSeriesLimitReached": false,
       "aggType": "",
       "arguments": {},
       "columnCustomDisplayInfos": {},
       "data": [
        [
         "United States",
         "Romania",
         1
        ],
        [
         "United States",
         "Ireland",
         264
        ],
        [
         "United States",
         "India",
         69
        ],
        [
         "Egypt",
         "United States",
         24
        ],
        [
         "Equatorial Guinea",
         "United States",
         1
        ],
        [
         "United States",
         "Singapore",
         25
        ],
        [
         "United States",
         "Grenada",
         54
        ],
        [
         "Costa Rica",
         "United States",
         477
        ],
        [
         "Senegal",
         "United States",
         29
        ],
        [
         "United States",
         "Marshall Islands",
         44
        ],
        [
         "Guyana",
         "United States",
         17
        ],
        [
         "United States",
         "Sint Maarten",
         53
        ],
        [
         "Malta",
         "United States",
         1
        ],
        [
         "Bolivia",
         "United States",
         46
        ],
        [
         "Anguilla",
         "United States",
         21
        ],
        [
         "Turks and Caicos Islands",
         "United States",
         136
        ],
        [
         "United States",
         "Afghanistan",
         2
        ],
        [
         "Saint Vincent and the Grenadines",
         "United States",
         1
        ],
        [
         "Italy",
         "United States",
         390
        ],
        [
         "United States",
         "Russia",
         156
        ],
        [
         "United States",
         "Federated States of Micronesia",
         48
        ],
        [
         "Pakistan",
         "United States",
         9
        ],
        [
         "United States",
         "Netherlands",
         570
        ],
        [
         "Iceland",
         "United States",
         118
        ],
        [
         "Marshall Islands",
         "United States",
         77
        ],
        [
         "Luxembourg",
         "United States",
         91
        ],
        [
         "Honduras",
         "United States",
         391
        ],
        [
         "The Bahamas",
         "United States",
         903
        ],
        [
         "El Salvador",
         "United States",
         519
        ],
        [
         "United States",
         "Senegal",
         46
        ],
        [
         "Samoa",
         "United States",
         28
        ],
        [
         "United States",
         "Angola",
         18
        ],
        [
         "Kazakhstan",
         "United States",
         3
        ],
        [
         "Switzerland",
         "United States",
         315
        ],
        [
         "United States",
         "Anguilla",
         20
        ],
        [
         "Sint Maarten",
         "United States",
         61
        ],
        [
         "Hong Kong",
         "United States",
         252
        ],
        [
         "Trinidad and Tobago",
         "United States",
         187
        ],
        [
         "Latvia",
         "United States",
         12
        ],
        [
         "United States",
         "Ecuador",
         345
        ],
        [
         "Slovakia",
         "United States",
         1
        ],
        [
         "Suriname",
         "United States",
         12
        ],
        [
         "Mexico",
         "United States",
         6200
        ],
        [
         "United States",
         "Cyprus",
         1
        ],
        [
         "Ecuador",
         "United States",
         272
        ],
        [
         "United States",
         "Bosnia and Herzegovina",
         1
        ],
        [
         "United States",
         "Portugal",
         104
        ],
        [
         "United States",
         "Costa Rica",
         501
        ],
        [
         "United States",
         "Guatemala",
         333
        ],
        [
         "United States",
         "Suriname",
         13
        ],
        [
         "Colombia",
         "United States",
         785
        ],
        [
         "United States",
         "Cape Verde",
         18
        ],
        [
         "United States",
         "Jamaica",
         757
        ],
        [
         "United States",
         "Malaysia",
         3
        ],
        [
         "Norway",
         "United States",
         29
        ],
        [
         "United States",
         "Morocco",
         16
        ],
        [
         "Thailand",
         "United States",
         16
        ],
        [
         "Venezuela",
         "United States",
         377
        ],
        [
         "United States",
         "Palau",
         30
        ],
        [
         "United States",
         "Samoa",
         28
        ],
        [
         "United States",
         "Algeria",
         1
        ],
        [
         "United States",
         "Venezuela",
         341
        ],
        [
         "Panama",
         "United States",
         355
        ],
        [
         "United States",
         "Finland",
         20
        ],
        [
         "United States",
         "Chile",
         176
        ],
        [
         "Morocco",
         "United States",
         16
        ],
        [
         "United States",
         "Greece",
         61
        ],
        [
         "Antigua and Barbuda",
         "United States",
         123
        ],
        [
         "Azerbaijan",
         "United States",
         1
        ],
        [
         "United States",
         "The Bahamas",
         959
        ],
        [
         "New Zealand",
         "United States",
         86
        ],
        [
         "Liberia",
         "United States",
         1
        ],
        [
         "United States",
         "Hong Kong",
         293
        ],
        [
         "Hungary",
         "United States",
         14
        ],
        [
         "United States",
         "China",
         505
        ],
        [
         "United States",
         "Vietnam",
         1
        ],
        [
         "Sweden",
         "United States",
         65
        ],
        [
         "United States",
         "Kuwait",
         25
        ],
        [
         "United States",
         "Dominican Republic",
         1150
        ],
        [
         "United States",
         "Egypt",
         25
        ],
        [
         "Israel",
         "United States",
         117
        ],
        [
         "United States",
         "United States",
         348113
        ],
        [
         "United States",
         "Luxembourg",
         90
        ],
        [
         "Ethiopia",
         "United States",
         12
        ],
        [
         "United States",
         "Poland",
         61
        ],
        [
         "Martinique",
         "United States",
         23
        ],
        [
         "Saint Barthelemy",
         "United States",
         28
        ],
        [
         "United States",
         "Saint Barthelemy",
         29
        ],
        [
         "United States",
         "Turkey",
         87
        ],
        [
         "Barbados",
         "United States",
         130
        ],
        [
         "United States",
         "Estonia",
         1
        ],
        [
         "United States",
         "Azerbaijan",
         1
        ],
        [
         "Germany",
         "United States",
         1392
        ],
        [
         "Kyrgyzstan",
         "United States",
         2
        ],
        [
         "United States",
         "South Korea",
         621
        ],
        [
         "United States",
         "El Salvador",
         464
        ],
        [
         "Ireland",
         "United States",
         231
        ],
        [
         "United States",
         "Hungary",
         15
        ],
        [
         "United States",
         "Serbia",
         1
        ],
        [
         "Malaysia",
         "United States",
         1
        ],
        [
         "United States",
         "Panama",
         363
        ],
        [
         "United States",
         "Ethiopia",
         12
        ],
        [
         "United States",
         "Aruba",
         349
        ],
        [
         "United States",
         "Thailand",
         13
        ],
        [
         "United States",
         "Netherlands Antilles",
         289
        ],
        [
         "United States",
         "Turks and Caicos Islands",
         147
        ],
        [
         "Cyprus",
         "United States",
         2
        ],
        [
         "United States",
         "Pakistan",
         15
        ],
        [
         "United States",
         "Honduras",
         393
        ],
        [
         "Qatar",
         "United States",
         41
        ],
        [
         "Fiji",
         "United States",
         53
        ],
        [
         "Saint Kitts and Nevis",
         "United States",
         113
        ],
        [
         "Taiwan",
         "United States",
         275
        ],
        [
         "Haiti",
         "United States",
         238
        ],
        [
         "Kuwait",
         "United States",
         26
        ],
        [
         "Canada",
         "United States",
         8271
        ],
        [
         "Federated States of Micronesia",
         "United States",
         46
        ],
        [
         "United States",
         "Liberia",
         1
        ],
        [
         "Jamaica",
         "United States",
         733
        ],
        [
         "United States",
         "Malta",
         2
        ],
        [
         "Dominican Republic",
         "United States",
         1109
        ],
        [
         "Japan",
         "United States",
         1383
        ],
        [
         "United States",
         "Saint Vincent and the Grenadines",
         16
        ],
        [
         "United States",
         "Guadeloupe",
         33
        ],
        [
         "Finland",
         "United States",
         24
        ],
        [
         "United States",
         "Ukraine",
         17
        ],
        [
         "United States",
         "France",
         776
        ],
        [
         "United States",
         "Norway",
         36
        ],
        [
         "Aruba",
         "United States",
         359
        ],
        [
         "French Guiana",
         "United States",
         4
        ],
        [
         "United States",
         "Kiribati",
         18
        ],
        [
         "India",
         "United States",
         66
        ],
        [
         "British Virgin Islands",
         "United States",
         49
        ],
        [
         "United States",
         "Germany",
         1406
        ],
        [
         "Brazil",
         "United States",
         995
        ],
        [
         "United States",
         "New Zealand",
         71
        ],
        [
         "French Polynesia",
         "United States",
         38
        ],
        [
         "United Arab Emirates",
         "United States",
         165
        ],
        [
         "Singapore",
         "United States",
         25
        ],
        [
         "United States",
         "Mexico",
         6220
        ],
        [
         "Netherlands",
         "United States",
         586
        ],
        [
         "United States",
         "Sweden",
         73
        ],
        [
         "United States",
         "Gabon",
         1
        ],
        [
         "United States",
         "Martinique",
         20
        ],
        [
         "United States",
         "United Arab Emirates",
         156
        ],
        [
         "United States",
         "Bulgaria",
         2
        ],
        [
         "China",
         "United States",
         448
        ],
        [
         "Denmark",
         "United States",
         98
        ],
        [
         "United States",
         "Philippines",
         116
        ],
        [
         "United States",
         "Nicaragua",
         181
        ],
        [
         "United States",
         "Belgium",
         355
        ],
        [
         "Peru",
         "United States",
         212
        ],
        [
         "Argentina",
         "United States",
         184
        ],
        [
         "Cayman Islands",
         "United States",
         247
        ],
        [
         "South Africa",
         "United States",
         25
        ],
        [
         "United States",
         "Iceland",
         129
        ],
        [
         "United States",
         "Argentina",
         159
        ],
        [
         "Spain",
         "United States",
         422
        ],
        [
         "Netherlands Antilles",
         "United States",
         286
        ],
        [
         "Bermuda",
         "United States",
         183
        ],
        [
         "United States",
         "Austria",
         34
        ],
        [
         "United States",
         "Nigeria",
         18
        ],
        [
         "United States",
         "Bonaire, Sint Eustatius, and Saba",
         16
        ],
        [
         "Kiribati",
         "United States",
         17
        ],
        [
         "Saudi Arabia",
         "United States",
         42
        ],
        [
         "Czech Republic",
         "United States",
         21
        ],
        [
         "Belgium",
         "United States",
         408
        ],
        [
         "United States",
         "Israel",
         122
        ],
        [
         "United States",
         "Bahrain",
         1
        ],
        [
         "United States",
         "Saint Lucia",
         121
        ],
        [
         "Afghanistan",
         "United States",
         11
        ],
        [
         "United States",
         "British Virgin Islands",
         47
        ],
        [
         "Curacao",
         "United States",
         20
        ],
        [
         "Georgia",
         "United States",
         2
        ],
        [
         "United States",
         "Guyana",
         20
        ],
        [
         "United States",
         "Denmark",
         107
        ],
        [
         "Philippines",
         "United States",
         132
        ],
        [
         "Grenada",
         "United States",
         65
        ],
        [
         "Cape Verde",
         "United States",
         18
        ],
        [
         "Ukraine",
         "United States",
         19
        ],
        [
         "United States",
         "Papua New Guinea",
         1
        ],
        [
         "United States",
         "Saudi Arabia",
         54
        ],
        [
         "Russia",
         "United States",
         152
        ],
        [
         "Guatemala",
         "United States",
         386
        ],
        [
         "Saint Lucia",
         "United States",
         116
        ],
        [
         "Paraguay",
         "United States",
         90
        ],
        [
         "United States",
         "Curacao",
         14
        ],
        [
         "United States",
         "Taiwan",
         252
        ],
        [
         "United States",
         "South Africa",
         15
        ],
        [
         "Turkey",
         "United States",
         75
        ],
        [
         "United Kingdom",
         "United States",
         1629
        ],
        [
         "United States",
         "Greenland",
         2
        ],
        [
         "United States",
         "Spain",
         442
        ],
        [
         "Cuba",
         "United States",
         243
        ],
        [
         "United States",
         "Italy",
         433
        ],
        [
         "United States",
         "Switzerland",
         334
        ],
        [
         "Dominica",
         "United States",
         28
        ],
        [
         "United States",
         "Japan",
         1307
        ],
        [
         "Portugal",
         "United States",
         102
        ],
        [
         "United States",
         "Brazil",
         578
        ],
        [
         "Bahrain",
         "United States",
         30
        ],
        [
         "United States",
         "Peru",
         284
        ],
        [
         "Vietnam",
         "United States",
         1
        ],
        [
         "United States",
         "United Kingdom",
         1503
        ],
        [
         "United States",
         "Belize",
         118
        ],
        [
         "Belize",
         "United States",
         121
        ],
        [
         "United States",
         "Ghana",
         28
        ],
        [
         "United States",
         "Indonesia",
         1
        ],
        [
         "United States",
         "Fiji",
         51
        ],
        [
         "United States",
         "Canada",
         8305
        ],
        [
         "United States",
         "French Polynesia",
         38
        ],
        [
         "United States",
         "Antigua and Barbuda",
         121
        ],
        [
         "United States",
         "Burkina Faso",
         1
        ],
        [
         "Nicaragua",
         "United States",
         178
        ],
        [
         "United States",
         "Latvia",
         13
        ],
        [
         "United States",
         "Dominica",
         32
        ],
        [
         "United States",
         "Czech Republic",
         22
        ],
        [
         "United States",
         "Australia",
         216
        ],
        [
         "Austria",
         "United States",
         36
        ],
        [
         "United States",
         "Cook Islands",
         12
        ],
        [
         "Jordan",
         "United States",
         50
        ],
        [
         "Palau",
         "United States",
         31
        ],
        [
         "Uganda",
         "United States",
         2
        ],
        [
         "United States",
         "Cameroon",
         1
        ],
        [
         "South Korea",
         "United States",
         683
        ],
        [
         "Angola",
         "United States",
         14
        ],
        [
         "Ghana",
         "United States",
         27
        ],
        [
         "Guadeloupe",
         "United States",
         40
        ],
        [
         "France",
         "United States",
         774
        ],
        [
         "United States",
         "Kyrgyzstan",
         12
        ],
        [
         "Poland",
         "United States",
         62
        ],
        [
         "Nigeria",
         "United States",
         16
        ],
        [
         "United States",
         "Uruguay",
         24
        ],
        [
         "Greenland",
         "United States",
         2
        ],
        [
         "Chile",
         "United States",
         166
        ],
        [
         "United States",
         "Bermuda",
         180
        ],
        [
         "United States",
         "Cuba",
         235
        ],
        [
         "United States",
         "Colombia",
         832
        ],
        [
         "United States",
         "Qatar",
         40
        ],
        [
         "United States",
         "Barbados",
         119
        ],
        [
         "Australia",
         "United States",
         290
        ],
        [
         "United States",
         "Jordan",
         51
        ],
        [
         "United States",
         "Cayman Islands",
         251
        ],
        [
         "United States",
         "Trinidad and Tobago",
         200
        ],
        [
         "United States",
         "Bolivia",
         39
        ],
        [
         "United States",
         "Slovakia",
         1
        ],
        [
         "Uruguay",
         "United States",
         54
        ],
        [
         "Cook Islands",
         "United States",
         13
        ],
        [
         "United States",
         "Saint Kitts and Nevis",
         127
        ],
        [
         "Bulgaria",
         "United States",
         1
        ],
        [
         "United States",
         "French Guiana",
         1
        ],
        [
         "United States",
         "Haiti",
         226
        ],
        [
         "United States",
         "Uganda",
         1
        ],
        [
         "Bonaire, Sint Eustatius, and Saba",
         "United States",
         16
        ],
        [
         "Greece",
         "United States",
         50
        ]
       ],
       "datasetInfos": [],
       "dbfsResultPath": null,
       "isJsonSchema": true,
       "metadata": {},
       "overflow": false,
       "plotOptions": {
        "customPlotOptions": {},
        "displayType": "table",
        "pivotAggregation": null,
        "pivotColumns": null,
        "xColumns": null,
        "yColumns": null
       },
       "removedWidgets": [],
       "schema": [
        {
         "metadata": "{}",
         "name": "DEST_COUNTRY_NAME",
         "type": "\"string\""
        },
        {
         "metadata": "{}",
         "name": "ORIGIN_COUNTRY_NAME",
         "type": "\"string\""
        },
        {
         "metadata": "{}",
         "name": "count",
         "type": "\"integer\""
        }
       ],
       "type": "table"
      }
     },
     "output_type": "display_data"
    }
   ],
   "source": [
    "\n",
    "from pyspark.sql import SparkSession\n",
    "spark = SparkSession.builder.appName(\"My_read_file\").getOrCreate()\n",
    "\n",
    "df_read = spark.read.format(\"csv\").option(\"inferSchema\",True).option(\"header\",True).load('/FileStore/shared_uploads/vatshalbph@gmail.com/2010_summary-2.csv')\n",
    "\n",
    "df_read.display()\n",
    "\n",
    "\n"
   ]
  },
  {
   "cell_type": "markdown",
   "metadata": {
    "application/vnd.databricks.v1+cell": {
     "cellMetadata": {},
     "inputWidgets": {},
     "nuid": "45d98485-0a53-4f97-b049-8b21d3db62f9",
     "showTitle": false,
     "tableResultSettingsMap": {},
     "title": ""
    }
   },
   "source": [
    "Fetch me all the record where origin country is India and dest country is USA"
   ]
  },
  {
   "cell_type": "code",
   "execution_count": 0,
   "metadata": {
    "application/vnd.databricks.v1+cell": {
     "cellMetadata": {
      "byteLimit": 2048000,
      "rowLimit": 10000
     },
     "inputWidgets": {},
     "nuid": "b54dbcae-ec95-4a95-8175-de51b1e4c9e1",
     "showTitle": false,
     "tableResultSettingsMap": {},
     "title": ""
    }
   },
   "outputs": [
    {
     "output_type": "display_data",
     "data": {
      "text/html": [
       "<style scoped>\n",
       "  .table-result-container {\n",
       "    max-height: 300px;\n",
       "    overflow: auto;\n",
       "  }\n",
       "  table, th, td {\n",
       "    border: 1px solid black;\n",
       "    border-collapse: collapse;\n",
       "  }\n",
       "  th, td {\n",
       "    padding: 5px;\n",
       "  }\n",
       "  th {\n",
       "    text-align: left;\n",
       "  }\n",
       "</style><div class='table-result-container'><table class='table-result'><thead style='background-color: white'><tr><th>DEST_COUNTRY_NAME</th><th>ORIGIN_COUNTRY_NAME</th><th>count</th></tr></thead><tbody><tr><td>United States</td><td>India</td><td>69</td></tr></tbody></table></div>"
      ]
     },
     "metadata": {
      "application/vnd.databricks.v1+output": {
       "addedWidgets": {},
       "aggData": [],
       "aggError": "",
       "aggOverflow": false,
       "aggSchema": [],
       "aggSeriesLimitReached": false,
       "aggType": "",
       "arguments": {},
       "columnCustomDisplayInfos": {},
       "data": [
        [
         "United States",
         "India",
         69
        ]
       ],
       "datasetInfos": [],
       "dbfsResultPath": null,
       "isJsonSchema": true,
       "metadata": {},
       "overflow": false,
       "plotOptions": {
        "customPlotOptions": {},
        "displayType": "table",
        "pivotAggregation": null,
        "pivotColumns": null,
        "xColumns": null,
        "yColumns": null
       },
       "removedWidgets": [],
       "schema": [
        {
         "metadata": "{}",
         "name": "DEST_COUNTRY_NAME",
         "type": "\"string\""
        },
        {
         "metadata": "{}",
         "name": "ORIGIN_COUNTRY_NAME",
         "type": "\"string\""
        },
        {
         "metadata": "{}",
         "name": "count",
         "type": "\"integer\""
        }
       ],
       "type": "table"
      }
     },
     "output_type": "display_data"
    }
   ],
   "source": [
    "from pyspark.sql.types import *\n",
    "\n",
    "df_filtered = df_read.filter((col('ORIGIN_COUNTRY_NAME')=='India') & (col('DEST_COUNTRY_NAME')=='United States'))\n",
    "df_filtered.display()"
   ]
  },
  {
   "cell_type": "markdown",
   "metadata": {
    "application/vnd.databricks.v1+cell": {
     "cellMetadata": {},
     "inputWidgets": {},
     "nuid": "4b9f9221-fe70-4a3c-894e-9fdd623e7701",
     "showTitle": false,
     "tableResultSettingsMap": {},
     "title": ""
    }
   },
   "source": []
  }
 ],
 "metadata": {
  "application/vnd.databricks.v1+notebook": {
   "dashboards": [],
   "environmentMetadata": null,
   "language": "python",
   "notebookMetadata": {
    "pythonIndentUnit": 4
   },
   "notebookName": "Session 7",
   "widgets": {}
  }
 },
 "nbformat": 4,
 "nbformat_minor": 0
}
